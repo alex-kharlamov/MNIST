{
 "cells": [
  {
   "cell_type": "code",
   "execution_count": 54,
   "metadata": {
    "collapsed": false
   },
   "outputs": [],
   "source": [
    "import pandas\n",
    "import matplotlib as plt\n",
    "%matplotlib inline\n",
    "import csv\n",
    "import seaborn as sls\n",
    "from scipy.stats import kendalltau\n",
    "from time import time\n",
    "from sklearn.ensemble import ExtraTreesClassifier\n",
    "from sklearn import cross_validation\n",
    "from sklearn.metrics import accuracy_score\n",
    "from sklearn.svm import SVC\n",
    "from sklearn.tree import DecisionTreeClassifier\n",
    "from sklearn.ensemble import RandomForestClassifier\n",
    "import cv2\n",
    "import numpy as np\n",
    "from pylab import *\n",
    "from scipy.spatial import distance\n",
    "from scipy.ndimage import interpolation\n",
    "import tables\n",
    "import random as pyrandom\n",
    "from sklearn import neighbors\n",
    "def log_progress(sequence, every=None, size=None):\n",
    "    from ipywidgets import IntProgress, HTML, VBox\n",
    "    from IPython.display import display\n",
    "\n",
    "    is_iterator = False\n",
    "    if size is None:\n",
    "        try:\n",
    "            size = len(sequence)\n",
    "        except TypeError:\n",
    "            is_iterator = True\n",
    "    if size is not None:\n",
    "        if every is None:\n",
    "            if size <= 200:\n",
    "                every = 1\n",
    "            else:\n",
    "                every = size / 200     # every 0.5%\n",
    "    else:\n",
    "        assert every is not None, 'sequence is iterator, set every'\n",
    "\n",
    "    if is_iterator:\n",
    "        progress = IntProgress(min=0, max=1, value=1)\n",
    "        progress.bar_style = 'info'\n",
    "    else:\n",
    "        progress = IntProgress(min=0, max=size, value=0)\n",
    "    label = HTML()\n",
    "    box = VBox(children=[label, progress])\n",
    "    display(box)\n",
    "\n",
    "    index = 0\n",
    "    try:\n",
    "        for index, record in enumerate(sequence, 1):\n",
    "            if index == 1 or index % every == 0:\n",
    "                if is_iterator:\n",
    "                    label.value = '{index} / ?'.format(index=index)\n",
    "                else:\n",
    "                    progress.value = index\n",
    "                    label.value = u'{index} / {size}'.format(\n",
    "                        index=index,\n",
    "                        size=size\n",
    "                    )\n",
    "            yield record\n",
    "    except:\n",
    "        progress.bar_style = 'danger'\n",
    "        raise\n",
    "    else:\n",
    "        progress.bar_style = 'success'\n",
    "        progress.value = index\n",
    "        label.value = str(index or '?')\n"
   ]
  },
  {
   "cell_type": "code",
   "execution_count": 26,
   "metadata": {
    "collapsed": true
   },
   "outputs": [],
   "source": [
    "train_set = pandas.read_csv(\"train.csv\")\n",
    "x = train_set.ix[: , 1:]\n",
    "x = np.array(x, dtype = 'float64') "
   ]
  },
  {
   "cell_type": "code",
   "execution_count": null,
   "metadata": {
    "collapsed": false
   },
   "outputs": [],
   "source": [
    "images_impoved = []\n",
    "for i in range(41999):\n",
    "    elem = np.array(data[i:i+1])[0]\n",
    "    temp = []\n",
    "    for el in elem:\n",
    "        for ele in el:\n",
    "            temp.append(ele)\n",
    "    images_impoved.append(temp)"
   ]
  },
  {
   "cell_type": "code",
   "execution_count": 27,
   "metadata": {
    "collapsed": false
   },
   "outputs": [],
   "source": [
    "def convert(frame):\n",
    "    return frame.iloc[:,1:].values\n",
    "\n",
    "def show_pic(img):\n",
    "    img = img.reshape(28,28)\n",
    "    #plt.pyplot.axis('off')\n",
    "    plt.pyplot.imshow(img, interpolation='nearest')\n",
    "\n",
    "def save_pic(img):\n",
    "    #plt.pyplot.savefig('img.jpg', bbox_inches='tight')\n",
    "    plt.pyplot.savefig('img.jpg')\n",
    "\n",
    "def deskew (image):  \n",
    "    affine_flags = cv2.WARP_INVERSE_MAP | cv2.INTER_LINEAR\n",
    "    size = len(image)\n",
    "    m = cv2.moments(image)\n",
    "    \n",
    "    if abs(m['mu02']) < 1e2:\n",
    "        return image.copy()\n",
    "\n",
    "    skew = m['mu11'] / m['mu02']\n",
    "    M = np.float32([[1, skew, 0.5 * size * skew], [0 , 1 , 0]])\n",
    "    image = cv2.warpAffine(image , M , (size , size) , flags = affine_flags)\n",
    "    return image"
   ]
  },
  {
   "cell_type": "markdown",
   "metadata": {},
   "source": [
    "Выравнивание"
   ]
  },
  {
   "cell_type": "code",
   "execution_count": 28,
   "metadata": {
    "collapsed": false
   },
   "outputs": [
    {
     "data": {
      "text/plain": [
       "<matplotlib.image.AxesImage at 0x1aa6bd1c358>"
      ]
     },
     "execution_count": 28,
     "metadata": {},
     "output_type": "execute_result"
    },
    {
     "data": {
      "image/png": "[encoded data removed]",
      "text/plain": [
       "<matplotlib.figure.Figure at 0x1aa6be56a20>"
      ]
     },
     "metadata": {},
     "output_type": "display_data"
    },
    {
     "data": {
      "image/png": "[encoded data removed]",
      "text/plain": [
       "<matplotlib.figure.Figure at 0x1aa6bd3f8d0>"
      ]
     },
     "metadata": {},
     "output_type": "display_data"
    }
   ],
   "source": [
    "i = 5\n",
    "plt.axis('off')\n",
    "plt.imshow(x[i].reshape(28,28))\n",
    "\n",
    "plt.figure()\n",
    "plt.axis('off')\n",
    "plt.imshow(deskew(x[i].reshape(28,28)),)"
   ]
  },
  {
   "cell_type": "code",
   "execution_count": null,
   "metadata": {
    "collapsed": false
   },
   "outputs": [],
   "source": [
    "images = []\n",
    "skew = [] \n",
    "    \n",
    "for row in log_progress(x):\n",
    "    image = row.reshape(28 , 28)\n",
    "    skewed_image = deskew(image)\n",
    "    images.append(skewed_image)\n",
    "    skew.append(skewed_image.flatten())\n",
    "    x = np.array(skew, dtype = 'float64' )"
   ]
  },
  {
   "cell_type": "code",
   "execution_count": null,
   "metadata": {
    "collapsed": false
   },
   "outputs": [],
   "source": [
    "images_impoved = []\n",
    "for elem in images:\n",
    "    temp = []\n",
    "    for el in elem.flat:\n",
    "        temp.append(el)\n",
    "    images_impoved.append(temp)"
   ]
  },
  {
   "cell_type": "code",
   "execution_count": null,
   "metadata": {
    "collapsed": false,
    "scrolled": false
   },
   "outputs": [],
   "source": [
    "csv.writer(open('images.csv', 'w'), dialect='excel').writerows(images)"
   ]
  },
  {
   "cell_type": "code",
   "execution_count": 29,
   "metadata": {
    "collapsed": false
   },
   "outputs": [],
   "source": [
    "y = train_set.label\n",
    "\n",
    "X_train, X_test, y_train, y_test = cross_validation.train_test_split(images_improved, y, test_size=0.2, random_state=0)"
   ]
  },
  {
   "cell_type": "code",
   "execution_count": 35,
   "metadata": {
    "collapsed": false
   },
   "outputs": [
    {
     "name": "stdout",
     "output_type": "stream",
     "text": [
      "Started to fitting KNN on data with 8 cores...\n",
      "We have  0.970952380952 of accuracy on KNN with  1  neighbor\n",
      "done in 88.428s\n",
      "\n",
      "We have  0.964404761905 of accuracy on KNN with  2  neighbor\n",
      "done in 88.318s\n",
      "\n"
     ]
    }
   ],
   "source": [
    "n_jobs = -1\n",
    "\n",
    "print(\"Started to fitting KNN on data with %d cores...\" % 8 if n_jobs == -1 else n_jobs)\n",
    "\n",
    "accuracy_values = []\n",
    "for number in range(1,3):\n",
    "    t0 = time()\n",
    "\n",
    "    clf = neighbors.KNeighborsClassifier(number, n_jobs=n_jobs, weights='uniform')\n",
    "\n",
    "    clf.fit(X_train, y_train)\n",
    "\n",
    "    y_predict = clf.predict(X_test)\n",
    "    \n",
    "    temp_acc = accuracy_score(y_test, y_predict)\n",
    "    print('We have ', temp_acc, 'of accuracy on KNN with ', number, ' neighbor')\n",
    "    accuracy_values.append(temp_acc)\n",
    "    print(\"done in %0.3fs\" % (time() - t0))\n",
    "    print()"
   ]
  },
  {
   "cell_type": "code",
   "execution_count": 36,
   "metadata": {
    "collapsed": false
   },
   "outputs": [
    {
     "name": "stdout",
     "output_type": "stream",
     "text": [
      "Started to fitting poly SVM on data\n",
      "We have  0.977738095238 of accuracy on poly SVC with degree = 2\n",
      "done in 176.522s\n",
      "\n",
      "We have  0.974047619048 of accuracy on poly SVC with degree = 3\n",
      "done in 175.887s\n",
      "\n"
     ]
    }
   ],
   "source": [
    "print(\"Started to fitting poly SVM on data\")\n",
    "\n",
    "accuracy_values_poly_SVM = []\n",
    "for number in range(2,4):\n",
    "    t0 = time()\n",
    "\n",
    "    clf = SVC(kernel='poly', degree=number)\n",
    "\n",
    "    clf.fit(X_train, y_train)\n",
    "\n",
    "    y_predict = clf.predict(X_test)\n",
    "    \n",
    "    temp_acc = accuracy_score(y_test, y_predict)\n",
    "    print('We have ', temp_acc, 'of accuracy on poly SVC with degree =', number)\n",
    "    accuracy_values_poly_SVM.append(temp_acc)\n",
    "    print(\"done in %0.3fs\" % (time() - t0))\n",
    "    print()"
   ]
  },
  {
   "cell_type": "code",
   "execution_count": 37,
   "metadata": {
    "collapsed": false
   },
   "outputs": [
    {
     "name": "stdout",
     "output_type": "stream",
     "text": [
      "Started to fitting ExtraTreesClassifier on data with 8 cores...\n",
      "we have  0.97119047619 of accuracy on ExtraTreeClassifier\n",
      "done in 249.393s\n"
     ]
    }
   ],
   "source": [
    "n_jobs = -1\n",
    "\n",
    "print(\"Started to fitting ExtraTreesClassifier on data with %d cores...\" % 8 if n_jobs == -1 else n_jobs)\n",
    "\n",
    "t0 = time()\n",
    "\n",
    "forest = ExtraTreesClassifier(n_estimators=1000,\n",
    "                              max_features=128,\n",
    "                              n_jobs=n_jobs,\n",
    "                              random_state=0)\n",
    "\n",
    "forest.fit(X_train, y_train)\n",
    "\n",
    "y_predict = forest.predict(X_test)\n",
    "\n",
    "print('we have ', accuracy_score(y_test, y_predict), 'of accuracy on ExtraTreeClassifier')\n",
    "\n",
    "print(\"done in %0.3fs\" % (time() - t0))"
   ]
  },
  {
   "cell_type": "markdown",
   "metadata": {},
   "source": [
    "Никакого прироста в точности =("
   ]
  },
  {
   "cell_type": "markdown",
   "metadata": {},
   "source": [
    "Эрозия и дилатация"
   ]
  },
  {
   "cell_type": "code",
   "execution_count": 39,
   "metadata": {
    "collapsed": false
   },
   "outputs": [
    {
     "data": {
      "text/plain": [
       "<matplotlib.image.AxesImage at 0x1aa2362dbe0>"
      ]
     },
     "execution_count": 39,
     "metadata": {},
     "output_type": "execute_result"
    },
    {
     "data": {
      "image/png": "[encoded data removed]",
      "text/plain": [
       "<matplotlib.figure.Figure at 0x1aa23510e48>"
      ]
     },
     "metadata": {},
     "output_type": "display_data"
    },
    {
     "data": {
      "image/png": "[encoded data removed]",
      "text/plain": [
       "<matplotlib.figure.Figure at 0x1aa235deeb8>"
      ]
     },
     "metadata": {},
     "output_type": "display_data"
    },
    {
     "data": {
      "image/png": "[encoded data removed]",
      "text/plain": [
       "<matplotlib.figure.Figure at 0x1aa23627c18>"
      ]
     },
     "metadata": {},
     "output_type": "display_data"
    }
   ],
   "source": [
    "img = cv2.imread('img.jpg', 0)\n",
    "\n",
    "kernel = np.ones((23,23), np.uint8)\n",
    "\n",
    "img_erosion = cv2.erode(img, kernel, iterations=1)\n",
    "img_dilation = cv2.dilate(img, kernel, iterations=1)\n",
    "\n",
    "plt.axis('off')\n",
    "\n",
    "plt.imshow(img , cmap = 'gray', interpolation = 'bicubic')\n",
    "plt.figure()\n",
    "plt.axis('off')\n",
    "plt.imshow(img_erosion, cmap = 'gray', interpolation = 'bicubic')\n",
    "plt.figure()\n",
    "plt.axis('off')\n",
    "plt.imshow(img_dilation, cmap = 'gray', interpolation = 'bicubic')"
   ]
  },
  {
   "cell_type": "code",
   "execution_count": null,
   "metadata": {
    "collapsed": true
   },
   "outputs": [],
   "source": [
    "Скелет алгоритмом Розенфильда"
   ]
  },
  {
   "cell_type": "code",
   "execution_count": 46,
   "metadata": {
    "collapsed": false
   },
   "outputs": [
    {
     "data": {
      "text/plain": [
       "<matplotlib.image.AxesImage at 0x1aa1f74aeb8>"
      ]
     },
     "execution_count": 46,
     "metadata": {},
     "output_type": "execute_result"
    },
    {
     "data": {
      "image/png": "[encoded data removed]",
      "text/plain": [
       "<matplotlib.figure.Figure at 0x1aa6bbb1278>"
      ]
     },
     "metadata": {},
     "output_type": "display_data"
    }
   ],
   "source": [
    "from skimage.morphology import skeletonize\n",
    "from skimage import draw\n",
    "\n",
    "image = x[19]\n",
    "\n",
    "for i in range(len(image)):\n",
    "    if image[i] > 0:\n",
    "        image[i] = 1\n",
    "\n",
    "skeleton = skeletonize(image.reshape(28,28))\n",
    "plt.axis('off')\n",
    "plt.imshow(skeleton)"
   ]
  },
  {
   "cell_type": "markdown",
   "metadata": {},
   "source": [
    " Попробуем добавить новые фичи"
   ]
  },
  {
   "cell_type": "code",
   "execution_count": 50,
   "metadata": {
    "collapsed": true
   },
   "outputs": [],
   "source": [
    "train_set = pandas.read_csv(\"train.csv\")\n",
    "x = train_set.ix[: , 1:]\n",
    "x = list(np.array(x, dtype = 'float64'))\n",
    "y = train_set.label"
   ]
  },
  {
   "cell_type": "markdown",
   "metadata": {},
   "source": [
    "Простая статистика количества заполненных\\пустых клеток и их отношение"
   ]
  },
  {
   "cell_type": "code",
   "execution_count": 58,
   "metadata": {
    "collapsed": false
   },
   "outputs": [],
   "source": [
    "x = np.array(x)\n",
    "x_ls = []\n",
    "for i in range(len(x)):\n",
    "    temp = []\n",
    "    white = 0\n",
    "    black = 0\n",
    "    for elem in x[i]:\n",
    "        temp.append(elem)\n",
    "        if elem > 0:\n",
    "            black += 1\n",
    "        else:\n",
    "            white += 1\n",
    "    temp.append(white)\n",
    "    temp.append(black)\n",
    "    temp.append(white/black)\n",
    "    x_ls.append(temp)"
   ]
  },
  {
   "cell_type": "code",
   "execution_count": 66,
   "metadata": {
    "collapsed": true
   },
   "outputs": [],
   "source": [
    "X_train, X_test, y_train, y_test = cross_validation.train_test_split(x_ls, y, test_size=0.2, random_state=0)"
   ]
  },
  {
   "cell_type": "code",
   "execution_count": 67,
   "metadata": {
    "collapsed": false
   },
   "outputs": [
    {
     "name": "stdout",
     "output_type": "stream",
     "text": [
      "Started to fitting ExtraTreesClassifier on data with 8 cores...\n",
      "we have  0.970714285714 of accuracy on ExtraTreeClassifier\n",
      "done in 121.077s\n"
     ]
    }
   ],
   "source": [
    "n_jobs = -1\n",
    "\n",
    "print(\"Started to fitting ExtraTreesClassifier on data with %d cores...\" % 8 if n_jobs == -1 else n_jobs)\n",
    "\n",
    "t0 = time()\n",
    "\n",
    "forest = ExtraTreesClassifier(n_estimators=500,\n",
    "                              max_features=128,\n",
    "                              n_jobs=n_jobs,\n",
    "                              random_state=0)\n",
    "\n",
    "\n",
    "forest.fit(X_train, y_train)\n",
    "\n",
    "y_predict = forest.predict(X_test)\n",
    "\n",
    "print('we have ', accuracy_score(y_test, y_predict), 'of accuracy on ExtraTreeClassifier')\n",
    "\n",
    "print(\"done in %0.3fs\" % (time() - t0))\n",
    "\n",
    "importances = forest.feature_importances_"
   ]
  },
  {
   "cell_type": "code",
   "execution_count": 69,
   "metadata": {
    "collapsed": false
   },
   "outputs": [
    {
     "name": "stdout",
     "output_type": "stream",
     "text": [
      "Feature ranking:\n",
      "3. feature 786 (0.011099)\n",
      "6. feature 784 (0.009398)\n",
      "12. feature 785 (0.007731)\n"
     ]
    }
   ],
   "source": [
    "indices = np.argsort(importances)[::-1]\n",
    "\n",
    "print(\"Feature ranking:\")\n",
    "\n",
    "for f in range(np.array(x_ls).shape[1]):\n",
    "    if indices[f] >= 784:\n",
    "        print(\"%d. feature %d (%f)\" % (f + 1, indices[f], importances[indices[f]]))"
   ]
  },
  {
   "cell_type": "markdown",
   "metadata": {},
   "source": [
    "Получаем, что данные характеристики очень важны при классификации."
   ]
  }
 ],
 "metadata": {
  "kernelspec": {
   "display_name": "Python 3",
   "language": "python",
   "name": "python3"
  },
  "language_info": {
   "codemirror_mode": {
    "name": "ipython",
    "version": 3
   },
   "file_extension": ".py",
   "mimetype": "text/x-python",
   "name": "python",
   "nbconvert_exporter": "python",
   "pygments_lexer": "ipython3",
   "version": "3.5.1"
  }
 },
 "nbformat": 4,
 "nbformat_minor": 0
}
