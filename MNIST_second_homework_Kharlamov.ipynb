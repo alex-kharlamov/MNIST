{
 "cells": [
  {
   "cell_type": "code",
   "execution_count": 2,
   "metadata": {
    "collapsed": false
   },
   "outputs": [],
   "source": [
    "import pandas\n",
    "import matplotlib as plt\n",
    "%matplotlib inline\n",
    "import csv\n",
    "import seaborn as sls\n",
    "from scipy.stats import kendalltau\n",
    "from time import time\n",
    "from sklearn.ensemble import ExtraTreesClassifier\n",
    "from sklearn.tree import DecisionTreeClassifier\n",
    "from sklearn.ensemble import RandomForestClassifier\n",
    "from sklearn.ensemble import GradientBoostingClassifier\n",
    "from sklearn.ensemble import AdaBoostClassifier\n",
    "from sklearn import cross_validation\n",
    "from sklearn.metrics import accuracy_score\n",
    "from __future__ import absolute_import\n",
    "from __future__ import division\n",
    "from __future__ import print_function\n",
    "import os\n",
    "import sys\n",
    "import numpy\n",
    "from six.moves import xrange\n",
    "import tensorflow as tf\n",
    "from sklearn import neighbors\n",
    "from sklearn.svm import SVC\n",
    "from tpot import TPOT\n",
    "from sklearn.neural_network import MLPClassifier\n",
    "\n",
    "def log_progress(sequence, every=None, size=None):\n",
    "    from ipywidgets import IntProgress, HTML, VBox\n",
    "    from IPython.display import display\n",
    "\n",
    "    is_iterator = False\n",
    "    if size is None:\n",
    "        try:\n",
    "            size = len(sequence)\n",
    "        except TypeError:\n",
    "            is_iterator = True\n",
    "    if size is not None:\n",
    "        if every is None:\n",
    "            if size <= 200:\n",
    "                every = 1\n",
    "            else:\n",
    "                every = size / 200     # every 0.5%\n",
    "    else:\n",
    "        assert every is not None, 'sequence is iterator, set every'\n",
    "\n",
    "    if is_iterator:\n",
    "        progress = IntProgress(min=0, max=1, value=1)\n",
    "        progress.bar_style = 'info'\n",
    "    else:\n",
    "        progress = IntProgress(min=0, max=size, value=0)\n",
    "    label = HTML()\n",
    "    box = VBox(children=[label, progress])\n",
    "    display(box)\n",
    "\n",
    "    index = 0\n",
    "    try:\n",
    "        for index, record in enumerate(sequence, 1):\n",
    "            if index == 1 or index % every == 0:\n",
    "                if is_iterator:\n",
    "                    label.value = '{index} / ?'.format(index=index)\n",
    "                else:\n",
    "                    progress.value = index\n",
    "                    label.value = u'{index} / {size}'.format(\n",
    "                        index=index,\n",
    "                        size=size\n",
    "                    )\n",
    "            yield record\n",
    "    except:\n",
    "        progress.bar_style = 'danger'\n",
    "        raise\n",
    "    else:\n",
    "        progress.bar_style = 'success'\n",
    "        progress.value = index\n",
    "        label.value = str(index or '?')"
   ]
  },
  {
   "cell_type": "code",
   "execution_count": 3,
   "metadata": {
    "collapsed": false
   },
   "outputs": [],
   "source": [
    "train_set = pandas.read_csv(\"train.csv\")"
   ]
  },
  {
   "cell_type": "code",
   "execution_count": 4,
   "metadata": {
    "collapsed": false
   },
   "outputs": [],
   "source": [
    "def convert(frame):\n",
    "    return frame.iloc[:,1:].values\n",
    "\n",
    "\n",
    "def show_pic(img):\n",
    "    img = img.reshape(28,28)\n",
    "    plt.pyplot.imshow(img, interpolation='nearest')"
   ]
  },
  {
   "cell_type": "code",
   "execution_count": 5,
   "metadata": {
    "collapsed": false
   },
   "outputs": [],
   "source": [
    "y = train_set.label\n",
    "x = []\n",
    "for i in range(42000):\n",
    "    x.append(list(convert(train_set[i:i + 1])[0]))\n",
    "    \n",
    "X_train, X_test, y_train, y_test = cross_validation.train_test_split(x, y, test_size=0.2, random_state=0)"
   ]
  },
  {
   "cell_type": "code",
   "execution_count": null,
   "metadata": {
    "collapsed": false,
    "scrolled": true
   },
   "outputs": [],
   "source": [
    "def kaggle_sub(sample, test_predict):\n",
    "    for i in range(28000):\n",
    "        sample.Label[i] = test_predict[i]\n",
    "    sample.to_csv('submit.csv', columns=['ImageId', 'Label'], index=False)\n",
    "kaggle_sub(sample,test_predict)"
   ]
  },
  {
   "cell_type": "markdown",
   "metadata": {},
   "source": [
    "KNN с различными количествами соседей от 1 до 20 и одинаковой ценностью каждого соседа."
   ]
  },
  {
   "cell_type": "code",
   "execution_count": 5,
   "metadata": {
    "collapsed": false
   },
   "outputs": [
    {
     "name": "stdout",
     "output_type": "stream",
     "text": [
      "Started to fitting KNN on data with 8 cores...\n",
      "We have  0.970952380952 of accuracy on KNN with  1  neighbor\n",
      "done in 86.683s\n",
      "\n",
      "We have  0.964404761905 of accuracy on KNN with  2  neighbor\n",
      "done in 85.193s\n",
      "\n",
      "We have  0.969761904762 of accuracy on KNN with  3  neighbor\n",
      "done in 83.734s\n",
      "\n",
      "We have  0.967619047619 of accuracy on KNN with  4  neighbor\n",
      "done in 84.356s\n",
      "\n",
      "We have  0.968095238095 of accuracy on KNN with  5  neighbor\n",
      "done in 86.186s\n",
      "\n",
      "We have  0.967380952381 of accuracy on KNN with  6  neighbor\n",
      "done in 85.625s\n",
      "\n",
      "We have  0.967738095238 of accuracy on KNN with  7  neighbor\n",
      "done in 101.367s\n",
      "\n",
      "We have  0.967023809524 of accuracy on KNN with  8  neighbor\n",
      "done in 99.815s\n",
      "\n",
      "We have  0.966785714286 of accuracy on KNN with  9  neighbor\n",
      "done in 106.013s\n",
      "\n",
      "We have  0.965119047619 of accuracy on KNN with  10  neighbor\n",
      "done in 106.116s\n",
      "\n",
      "We have  0.963928571429 of accuracy on KNN with  11  neighbor\n",
      "done in 112.595s\n",
      "\n",
      "We have  0.962261904762 of accuracy on KNN with  12  neighbor\n",
      "done in 112.811s\n",
      "\n",
      "We have  0.960119047619 of accuracy on KNN with  13  neighbor\n",
      "done in 111.461s\n",
      "\n",
      "We have  0.959523809524 of accuracy on KNN with  14  neighbor\n",
      "done in 109.430s\n",
      "\n",
      "We have  0.959285714286 of accuracy on KNN with  15  neighbor\n",
      "done in 107.924s\n",
      "\n",
      "We have  0.959404761905 of accuracy on KNN with  16  neighbor\n",
      "done in 106.823s\n",
      "\n",
      "We have  0.958214285714 of accuracy on KNN with  17  neighbor\n",
      "done in 91.176s\n",
      "\n",
      "We have  0.957738095238 of accuracy on KNN with  18  neighbor\n",
      "done in 91.910s\n",
      "\n",
      "We have  0.95619047619 of accuracy on KNN with  19  neighbor\n",
      "done in 94.237s\n",
      "\n"
     ]
    }
   ],
   "source": [
    "n_jobs = -1\n",
    "\n",
    "print(\"Started to fitting KNN on data with %d cores...\" % 8 if n_jobs == -1 else n_jobs)\n",
    "\n",
    "accuracy_values = []\n",
    "for number in range(1,20):\n",
    "    t0 = time()\n",
    "\n",
    "    clf = neighbors.KNeighborsClassifier(number, n_jobs=n_jobs, weights='uniform')\n",
    "\n",
    "    clf.fit(X_train, y_train)\n",
    "\n",
    "    y_predict = clf.predict(X_test)\n",
    "    \n",
    "    temp_acc = accuracy_score(y_test, y_predict)\n",
    "    print('We have ', temp_acc, 'of accuracy on KNN with ', number, ' neighbor')\n",
    "    accuracy_values.append(temp_acc)\n",
    "    print(\"done in %0.3fs\" % (time() - t0))\n",
    "    print()"
   ]
  },
  {
   "cell_type": "markdown",
   "metadata": {},
   "source": [
    "Распределение ошибки в зависимости от количества соседей"
   ]
  },
  {
   "cell_type": "code",
   "execution_count": 6,
   "metadata": {
    "collapsed": false
   },
   "outputs": [
    {
     "data": {
      "text/plain": [
       "[<matplotlib.lines.Line2D at 0x27d9ae357f0>]"
      ]
     },
     "execution_count": 6,
     "metadata": {},
     "output_type": "execute_result"
    },
    {
     "data": {
      "image/png": "[encoded data removed]",
      "text/plain": [
       "<matplotlib.figure.Figure at 0x27da40bac50>"
      ]
     },
     "metadata": {},
     "output_type": "display_data"
    }
   ],
   "source": [
    "x_neib = numpy.array([i for i in range(1,20)])\n",
    "plt.pyplot.plot(x_neib,accuracy_values)"
   ]
  },
  {
   "cell_type": "markdown",
   "metadata": {},
   "source": [
    "KNN для различного количества соседей с изменением веса в зависимости от удаленности соседа"
   ]
  },
  {
   "cell_type": "code",
   "execution_count": 7,
   "metadata": {
    "collapsed": false
   },
   "outputs": [
    {
     "name": "stdout",
     "output_type": "stream",
     "text": [
      "Started to fitting KNN on data with 8 cores...\n",
      "We have  0.970952380952 of accuracy on KNN with  1  neighbor\n",
      "done in 88.269s\n",
      "\n",
      "We have  0.970952380952 of accuracy on KNN with  2  neighbor\n",
      "done in 92.713s\n",
      "\n",
      "We have  0.970714285714 of accuracy on KNN with  3  neighbor\n",
      "done in 93.633s\n",
      "\n",
      "We have  0.9725 of accuracy on KNN with  4  neighbor\n",
      "done in 97.906s\n",
      "\n",
      "We have  0.970357142857 of accuracy on KNN with  5  neighbor\n",
      "done in 99.610s\n",
      "\n",
      "We have  0.97119047619 of accuracy on KNN with  6  neighbor\n",
      "done in 100.097s\n",
      "\n",
      "We have  0.968571428571 of accuracy on KNN with  7  neighbor\n",
      "done in 98.970s\n",
      "\n",
      "We have  0.969523809524 of accuracy on KNN with  8  neighbor\n",
      "done in 99.758s\n",
      "\n",
      "We have  0.96869047619 of accuracy on KNN with  9  neighbor\n",
      "done in 99.456s\n",
      "\n",
      "We have  0.967261904762 of accuracy on KNN with  10  neighbor\n",
      "done in 98.244s\n",
      "\n",
      "We have  0.965714285714 of accuracy on KNN with  11  neighbor\n",
      "done in 96.456s\n",
      "\n",
      "We have  0.964880952381 of accuracy on KNN with  12  neighbor\n",
      "done in 96.304s\n",
      "\n",
      "We have  0.962619047619 of accuracy on KNN with  13  neighbor\n",
      "done in 96.844s\n",
      "\n",
      "We have  0.962261904762 of accuracy on KNN with  14  neighbor\n",
      "done in 94.389s\n",
      "\n",
      "We have  0.961071428571 of accuracy on KNN with  15  neighbor\n",
      "done in 94.447s\n",
      "\n",
      "We have  0.961428571429 of accuracy on KNN with  16  neighbor\n",
      "done in 105.964s\n",
      "\n",
      "We have  0.959404761905 of accuracy on KNN with  17  neighbor\n",
      "done in 105.069s\n",
      "\n",
      "We have  0.959880952381 of accuracy on KNN with  18  neighbor\n",
      "done in 107.483s\n",
      "\n",
      "We have  0.958333333333 of accuracy on KNN with  19  neighbor\n",
      "done in 108.562s\n",
      "\n"
     ]
    }
   ],
   "source": [
    "n_jobs = -1\n",
    "\n",
    "print(\"Started to fitting KNN on data with %d cores...\" % 8 if n_jobs == -1 else n_jobs)\n",
    "\n",
    "accuracy_values = []\n",
    "for number in range(1,20):\n",
    "    t0 = time()\n",
    "\n",
    "    clf = neighbors.KNeighborsClassifier(number, n_jobs=n_jobs, weights='distance')\n",
    "\n",
    "    clf.fit(X_train, y_train)\n",
    "\n",
    "    y_predict = clf.predict(X_test)\n",
    "    \n",
    "    temp_acc = accuracy_score(y_test, y_predict)\n",
    "    print('We have ', temp_acc, 'of accuracy on KNN with ', number, ' neighbor')\n",
    "    accuracy_values.append(temp_acc)\n",
    "    print(\"done in %0.3fs\" % (time() - t0))\n",
    "    print()"
   ]
  },
  {
   "cell_type": "markdown",
   "metadata": {},
   "source": [
    "Распределение ошибки для зависимой от расстояния ценности соседа"
   ]
  },
  {
   "cell_type": "code",
   "execution_count": 8,
   "metadata": {
    "collapsed": false
   },
   "outputs": [
    {
     "data": {
      "text/plain": [
       "[<matplotlib.lines.Line2D at 0x27df79fbeb8>]"
      ]
     },
     "execution_count": 8,
     "metadata": {},
     "output_type": "execute_result"
    },
    {
     "data": {
      "image/png": "[encoded data removed]",
      "text/plain": [
       "<matplotlib.figure.Figure at 0x27da40ba9b0>"
      ]
     },
     "metadata": {},
     "output_type": "display_data"
    }
   ],
   "source": [
    "x_neib = numpy.array([i for i in range(1,20)])\n",
    "plt.pyplot.plot(x_neib,accuracy_values)"
   ]
  },
  {
   "cell_type": "markdown",
   "metadata": {},
   "source": [
    "SVM с различными коэффициентами"
   ]
  },
  {
   "cell_type": "code",
   "execution_count": 9,
   "metadata": {
    "collapsed": false,
    "scrolled": true
   },
   "outputs": [
    {
     "name": "stdout",
     "output_type": "stream",
     "text": [
      "Started to fitting SVM on data\n",
      "We have  0.114404761905 of accuracy on SVC with C= 0.5\n",
      "done in 3119.694s\n",
      "\n",
      "We have  0.114404761905 of accuracy on SVC with C= 0.7\n",
      "done in 3078.368s\n",
      "\n",
      "We have  0.114404761905 of accuracy on SVC with C= 1\n",
      "done in 2953.908s\n",
      "\n"
     ]
    }
   ],
   "source": [
    "print(\"Started to fitting SVM on data\")\n",
    "\n",
    "accuracy_values_SVM = []\n",
    "for number in [0.5, 0.7, 1]:\n",
    "    t0 = time()\n",
    "\n",
    "    clf = SVC(C=number)\n",
    "\n",
    "    clf.fit(X_train, y_train)\n",
    "\n",
    "    y_predict = clf.predict(X_test)\n",
    "    \n",
    "    temp_acc = accuracy_score(y_test, y_predict)\n",
    "    print('We have ', temp_acc, 'of accuracy on SVC with C=', number)\n",
    "    accuracy_values.append(temp_acc)\n",
    "    print(\"done in %0.3fs\" % (time() - t0))\n",
    "    print()"
   ]
  },
  {
   "cell_type": "markdown",
   "metadata": {},
   "source": [
    "Не имеем никакой разницы в зависимости от параметра =("
   ]
  },
  {
   "cell_type": "markdown",
   "metadata": {},
   "source": [
    "SVM с измененным ядром для полиномов от 1 до 10"
   ]
  },
  {
   "cell_type": "code",
   "execution_count": 10,
   "metadata": {
    "collapsed": false
   },
   "outputs": [
    {
     "name": "stdout",
     "output_type": "stream",
     "text": [
      "Started to fitting poly SVM on data\n",
      "We have  0.919047619048 of accuracy on poly SVC with degree = 1\n",
      "done in 412.535s\n",
      "\n",
      "We have  0.977738095238 of accuracy on poly SVC with degree = 2\n",
      "done in 167.451s\n",
      "\n",
      "We have  0.974047619048 of accuracy on poly SVC with degree = 3\n",
      "done in 173.696s\n",
      "\n",
      "We have  0.969166666667 of accuracy on poly SVC with degree = 4\n",
      "done in 185.534s\n",
      "\n",
      "We have  0.959761904762 of accuracy on poly SVC with degree = 5\n",
      "done in 206.720s\n",
      "\n",
      "We have  0.947619047619 of accuracy on poly SVC with degree = 6\n",
      "done in 234.237s\n",
      "\n",
      "We have  0.932380952381 of accuracy on poly SVC with degree = 7\n",
      "done in 268.058s\n",
      "\n",
      "We have  0.919642857143 of accuracy on poly SVC with degree = 8\n",
      "done in 306.511s\n",
      "\n",
      "We have  0.903214285714 of accuracy on poly SVC with degree = 9\n",
      "done in 347.078s\n",
      "\n"
     ]
    }
   ],
   "source": [
    "print(\"Started to fitting poly SVM on data\")\n",
    "\n",
    "accuracy_values_poly_SVM = []\n",
    "for number in range(1,10):\n",
    "    t0 = time()\n",
    "\n",
    "    clf = SVC(kernel='poly', degree=number)\n",
    "\n",
    "    clf.fit(X_train, y_train)\n",
    "\n",
    "    y_predict = clf.predict(X_test)\n",
    "    \n",
    "    temp_acc = accuracy_score(y_test, y_predict)\n",
    "    print('We have ', temp_acc, 'of accuracy on poly SVC with degree =', number)\n",
    "    accuracy_values_poly_SVM.append(temp_acc)\n",
    "    print(\"done in %0.3fs\" % (time() - t0))\n",
    "    print()"
   ]
  },
  {
   "cell_type": "markdown",
   "metadata": {},
   "source": [
    "Точность в зависимости от различных ядер"
   ]
  },
  {
   "cell_type": "code",
   "execution_count": 11,
   "metadata": {
    "collapsed": false
   },
   "outputs": [
    {
     "data": {
      "text/plain": [
       "[<matplotlib.lines.Line2D at 0x27d8001ccf8>]"
      ]
     },
     "execution_count": 11,
     "metadata": {},
     "output_type": "execute_result"
    },
    {
     "data": {
      "image/png": "[encoded data removed]",
      "text/plain": [
       "<matplotlib.figure.Figure at 0x27df79adc50>"
      ]
     },
     "metadata": {},
     "output_type": "display_data"
    }
   ],
   "source": [
    "x_neib = numpy.array([i for i in range(1,10)])\n",
    "plt.pyplot.plot(x_neib,accuracy_values_poly_SVM)"
   ]
  },
  {
   "cell_type": "markdown",
   "metadata": {},
   "source": [
    "Обычное дерево решений"
   ]
  },
  {
   "cell_type": "code",
   "execution_count": 16,
   "metadata": {
    "collapsed": false
   },
   "outputs": [
    {
     "name": "stdout",
     "output_type": "stream",
     "text": [
      "Started to fitting DecisionTreeClassifier on data\n",
      "we have  0.8525 of accuracy on DecisionTreeClassifier\n",
      "done in 12.799s\n"
     ]
    }
   ],
   "source": [
    "print(\"Started to fitting DecisionTreeClassifier on data\")\n",
    "\n",
    "t0 = time()\n",
    "\n",
    "forest = DecisionTreeClassifier()\n",
    "\n",
    "forest.fit(X_train, y_train)\n",
    "\n",
    "y_predict = forest.predict(X_test)\n",
    "\n",
    "print('we have ', accuracy_score(y_test, y_predict), 'of accuracy on DecisionTreeClassifier')\n",
    "\n",
    "print(\"done in %0.3fs\" % (time() - t0))"
   ]
  },
  {
   "cell_type": "markdown",
   "metadata": {},
   "source": [
    "RandomForest с 2000 тысячами деревьев и голосованием для выбора предсказания."
   ]
  },
  {
   "cell_type": "code",
   "execution_count": 8,
   "metadata": {
    "collapsed": false
   },
   "outputs": [
    {
     "name": "stdout",
     "output_type": "stream",
     "text": [
      "Started to fitting ExtraTreesClassifier on data with 8 cores...\n",
      "we have  0.971547619048 of accuracy on ExtraTreeClassifier\n",
      "done in 491.892s\n"
     ]
    }
   ],
   "source": [
    "n_jobs = -1\n",
    "\n",
    "print(\"Started to fitting ExtraTreesClassifier on data with %d cores...\" % 8 if n_jobs == -1 else n_jobs)\n",
    "\n",
    "t0 = time()\n",
    "\n",
    "forest = ExtraTreesClassifier(n_estimators=2000,\n",
    "                              max_features=128,\n",
    "                              n_jobs=n_jobs,\n",
    "                              random_state=0)\n",
    "\n",
    "forest.fit(X_train, y_train)\n",
    "\n",
    "y_predict = forest.predict(X_test)\n",
    "\n",
    "print('we have ', accuracy_score(y_test, y_predict), 'of accuracy on ExtraTreeClassifier')\n",
    "\n",
    "print(\"done in %0.3fs\" % (time() - t0))"
   ]
  },
  {
   "cell_type": "markdown",
   "metadata": {},
   "source": [
    "Градиентный бустинг решающих деревьев"
   ]
  },
  {
   "cell_type": "code",
   "execution_count": 18,
   "metadata": {
    "collapsed": false
   },
   "outputs": [
    {
     "name": "stdout",
     "output_type": "stream",
     "text": [
      "Started to fitting GradientBoostingClassifier on data\n",
      "we have  0.943928571429 of accuracy on GradientBoostingClassifier\n",
      "done in 1382.034s\n"
     ]
    }
   ],
   "source": [
    "print(\"Started to fitting GradientBoostingClassifier on data\")\n",
    "\n",
    "t0 = time()\n",
    "\n",
    "forest = GradientBoostingClassifier()\n",
    "\n",
    "forest.fit(X_train, y_train)\n",
    "\n",
    "y_predict = forest.predict(X_test)\n",
    "\n",
    "print('we have ', accuracy_score(y_test, y_predict), 'of accuracy on GradientBoostingClassifier')\n",
    "\n",
    "print(\"done in %0.3fs\" % (time() - t0))\n"
   ]
  },
  {
   "cell_type": "markdown",
   "metadata": {},
   "source": [
    "RandomForest с различным количеством деревьев"
   ]
  },
  {
   "cell_type": "code",
   "execution_count": 19,
   "metadata": {
    "collapsed": false
   },
   "outputs": [
    {
     "name": "stdout",
     "output_type": "stream",
     "text": [
      "Started to fitting RandomForest on data\n",
      "We have  0.784404761905 of accuracy on RandomForest with trees = 2\n",
      "done in 2.902s\n",
      "\n",
      "We have  0.934166666667 of accuracy on RandomForest with trees = 10\n",
      "done in 3.185s\n",
      "\n",
      "We have  0.964523809524 of accuracy on RandomForest with trees = 100\n",
      "done in 7.170s\n",
      "\n",
      "We have  0.966547619048 of accuracy on RandomForest with trees = 300\n",
      "done in 17.586s\n",
      "\n",
      "We have  0.966428571429 of accuracy on RandomForest with trees = 700\n",
      "done in 36.240s\n",
      "\n",
      "We have  0.965952380952 of accuracy on RandomForest with trees = 1000\n",
      "done in 51.613s\n",
      "\n",
      "We have  0.96619047619 of accuracy on RandomForest with trees = 2000\n",
      "done in 108.641s\n",
      "\n"
     ]
    }
   ],
   "source": [
    "print(\"Started to fitting RandomForest on data\")\n",
    "\n",
    "accuracy_values_random_forest = []\n",
    "for number in [2, 10, 100, 300, 700, 1000, 2000]:\n",
    "    t0 = time()\n",
    "\n",
    "    clf = RandomForestClassifier(n_estimators=number, n_jobs=-1)\n",
    "\n",
    "    clf.fit(X_train, y_train)\n",
    "\n",
    "    y_predict = clf.predict(X_test)\n",
    "    \n",
    "    temp_acc = accuracy_score(y_test, y_predict)\n",
    "    print('We have ', temp_acc, 'of accuracy on RandomForest with trees =', number)\n",
    "    accuracy_values_random_forest.append(temp_acc)\n",
    "    print(\"done in %0.3fs\" % (time() - t0))\n",
    "    print()"
   ]
  },
  {
   "cell_type": "code",
   "execution_count": 30,
   "metadata": {
    "collapsed": false
   },
   "outputs": [
    {
     "data": {
      "text/plain": [
       "<matplotlib.axes._subplots.AxesSubplot at 0x27d9a7d3f28>"
      ]
     },
     "execution_count": 30,
     "metadata": {},
     "output_type": "execute_result"
    },
    {
     "data": {
      "image/png": "[encoded data removed]",
      "text/plain": [
       "<matplotlib.figure.Figure at 0x27d9a945780>"
      ]
     },
     "metadata": {},
     "output_type": "display_data"
    }
   ],
   "source": [
    "x_neib = numpy.array([2, 10, 100, 300, 700, 1000, 2000])\n",
    "sls.boxplot(x_neib,accuracy_values_random_forest)"
   ]
  },
  {
   "cell_type": "markdown",
   "metadata": {},
   "source": [
    "AdaBoost с различных количеством решающих деревьев"
   ]
  },
  {
   "cell_type": "code",
   "execution_count": 31,
   "metadata": {
    "collapsed": false
   },
   "outputs": [
    {
     "name": "stdout",
     "output_type": "stream",
     "text": [
      "Started to fitting AdaBoost on data\n",
      "We have  0.321547619048 of accuracy on AdaBoost with trees = 2\n",
      "done in 4.522s\n",
      "\n",
      "We have  0.62619047619 of accuracy on AdaBoost with trees = 10\n",
      "done in 9.582s\n",
      "\n",
      "We have  0.717857142857 of accuracy on AdaBoost with trees = 100\n",
      "done in 77.965s\n",
      "\n",
      "We have  0.648928571429 of accuracy on AdaBoost with trees = 300\n",
      "done in 226.388s\n",
      "\n",
      "We have  0.631666666667 of accuracy on AdaBoost with trees = 700\n",
      "done in 501.802s\n",
      "\n",
      "We have  0.640833333333 of accuracy on AdaBoost with trees = 1000\n",
      "done in 685.638s\n",
      "\n",
      "We have  0.658452380952 of accuracy on AdaBoost with trees = 2000\n",
      "done in 1333.760s\n",
      "\n"
     ]
    }
   ],
   "source": [
    "print(\"Started to fitting AdaBoost on data\")\n",
    "\n",
    "accuracy_values_Ada = []\n",
    "for number in [2, 10, 100, 300, 700, 1000, 2000]:\n",
    "    t0 = time()\n",
    "\n",
    "    clf = AdaBoostClassifier(n_estimators=number)\n",
    "\n",
    "    clf.fit(X_train, y_train)\n",
    "\n",
    "    y_predict = clf.predict(X_test)\n",
    "    \n",
    "    temp_acc = accuracy_score(y_test, y_predict)\n",
    "    print('We have ', temp_acc, 'of accuracy on AdaBoost with trees =', number)\n",
    "    accuracy_values_Ada.append(temp_acc)\n",
    "    print(\"done in %0.3fs\" % (time() - t0))\n",
    "    print()\n"
   ]
  },
  {
   "cell_type": "code",
   "execution_count": 32,
   "metadata": {
    "collapsed": false
   },
   "outputs": [
    {
     "data": {
      "text/plain": [
       "<matplotlib.axes._subplots.AxesSubplot at 0x27d9a758668>"
      ]
     },
     "execution_count": 32,
     "metadata": {},
     "output_type": "execute_result"
    },
    {
     "data": {
      "image/png": "[encoded data removed]",
      "text/plain": [
       "<matplotlib.figure.Figure at 0x27d9a742ac8>"
      ]
     },
     "metadata": {},
     "output_type": "display_data"
    }
   ],
   "source": [
    "x_neib = numpy.array([2, 10, 100, 300, 700, 1000, 2000])\n",
    "sls.boxplot(x_neib,accuracy_values_Ada)"
   ]
  },
  {
   "cell_type": "markdown",
   "metadata": {},
   "source": [
    "Генетический алгоритм подбора наилучших параметров"
   ]
  },
  {
   "cell_type": "code",
   "execution_count": 9,
   "metadata": {
    "collapsed": false
   },
   "outputs": [
    {
     "name": "stdout",
     "output_type": "stream",
     "text": [
      "Started to fitting\n"
     ]
    },
    {
     "name": "stderr",
     "output_type": "stream",
     "text": []
    },
    {
     "name": "stdout",
     "output_type": "stream",
     "text": [
      "Generation 1 - Current best internal CV score: 0.88261\n"
     ]
    },
    {
     "name": "stderr",
     "output_type": "stream",
     "text": []
    },
    {
     "name": "stdout",
     "output_type": "stream",
     "text": [
      "Generation 2 - Current best internal CV score: 0.88261\n"
     ]
    },
    {
     "name": "stderr",
     "output_type": "stream",
     "text": []
    },
    {
     "name": "stdout",
     "output_type": "stream",
     "text": [
      "Generation 3 - Current best internal CV score: 0.88261\n"
     ]
    },
    {
     "name": "stderr",
     "output_type": "stream",
     "text": []
    },
    {
     "name": "stdout",
     "output_type": "stream",
     "text": [
      "Generation 4 - Current best internal CV score: 0.88261\n"
     ]
    },
    {
     "name": "stderr",
     "output_type": "stream",
     "text": []
    },
    {
     "name": "stdout",
     "output_type": "stream",
     "text": [
      "Generation 5 - Current best internal CV score: 0.88261\n"
     ]
    },
    {
     "name": "stderr",
     "output_type": "stream",
     "text": []
    },
    {
     "name": "stdout",
     "output_type": "stream",
     "text": [
      "Generation 6 - Current best internal CV score: 0.88261\n"
     ]
    },
    {
     "name": "stderr",
     "output_type": "stream",
     "text": []
    },
    {
     "name": "stdout",
     "output_type": "stream",
     "text": [
      "Generation 7 - Current best internal CV score: 0.88261\n"
     ]
    },
    {
     "name": "stderr",
     "output_type": "stream",
     "text": []
    },
    {
     "name": "stdout",
     "output_type": "stream",
     "text": [
      "Generation 8 - Current best internal CV score: 0.88261\n"
     ]
    },
    {
     "name": "stderr",
     "output_type": "stream",
     "text": []
    },
    {
     "name": "stdout",
     "output_type": "stream",
     "text": [
      "Generation 9 - Current best internal CV score: 0.88261\n"
     ]
    },
    {
     "name": "stderr",
     "output_type": "stream",
     "text": []
    },
    {
     "name": "stdout",
     "output_type": "stream",
     "text": [
      "Generation 10 - Current best internal CV score: 0.88261\n"
     ]
    },
    {
     "name": "stderr",
     "output_type": "stream",
     "text": []
    },
    {
     "name": "stdout",
     "output_type": "stream",
     "text": [
      "\n",
      "Best pipeline: _select_kbest(_bernoulli_nb(input_df, 1.0000000000000001e-05, 0.029999999999999999), 38)\n",
      "0.0\n",
      "done in 555.827s\n"
     ]
    }
   ],
   "source": [
    "print('Started to fitting')\n",
    "t0 = time()\n",
    "tpot = TPOT(generations=10, verbosity=2)\n",
    "tpot.fit(X_train, numpy.array(y_train))\n",
    "print(tpot.score(X_test, y_test))\n",
    "print(\"done in %0.3fs\" % (time() - t0))\n",
    "\n",
    "result1 = tpot_data.copy()\n",
    "\n",
    "bnb1 = BernoulliNB(alpha=1e-05, binarize=0.03)\n",
    "bnb1.fit(result1.loc[training_indices].drop('class', axis=1).values, result1.loc[training_indices, 'class'].values)\n",
    "\n",
    "result1['bnb1-classification'] = bnb1.predict(result1.drop('class', axis=1).values)\n",
    "\n",
    "\n",
    "training_features = result1.loc[training_indices].drop('class', axis=1)\n",
    "training_class_vals = result1.loc[training_indices, 'class'].values\n",
    "\n",
    "if len(training_features.columns.values) == 0:\n",
    "    result2 = result1.copy()\n",
    "else:\n",
    "    selector = SelectKBest(f_classif, k=min(38, len(training_features.columns)))\n",
    "    selector.fit(training_features.values, training_class_vals)\n",
    "    mask = selector.get_support(True)\n",
    "    mask_cols = list(training_features.iloc[:, mask].columns) + ['class']\n",
    "    result2 = result1[mask_cols]\n"
   ]
  },
  {
   "cell_type": "markdown",
   "metadata": {},
   "source": [
    "6 слойный перцептрон с параметрами 784-2500-2000-1500-1000-500-10 со стохастическим градиентным спуском и различными функциями активации и алгоритмами"
   ]
  },
  {
   "cell_type": "code",
   "execution_count": 12,
   "metadata": {
    "collapsed": false
   },
   "outputs": [
    {
     "name": "stdout",
     "output_type": "stream",
     "text": [
      "Started to fitting MLPClassifier on data\n",
      "Iteration 1, loss = 0.87510415\n",
      "Iteration 2, loss = 0.31951016\n",
      "Iteration 3, loss = 0.27244733\n",
      "Iteration 4, loss = 0.23901066\n",
      "Iteration 5, loss = 0.23766333\n",
      "Iteration 6, loss = 0.21435707\n",
      "Iteration 7, loss = 0.21254382\n",
      "Iteration 8, loss = 0.19835075\n",
      "Iteration 9, loss = 0.19636110\n",
      "Iteration 10, loss = 0.17523291\n",
      "Iteration 11, loss = 0.18589492\n",
      "Iteration 12, loss = 0.17654913\n",
      "Iteration 13, loss = 0.17054411\n",
      "Iteration 14, loss = 0.16244333\n",
      "Iteration 15, loss = 0.15656101\n",
      "Iteration 16, loss = 0.16103789\n",
      "Iteration 17, loss = 0.15590492\n",
      "Iteration 18, loss = 0.15037203\n",
      "Iteration 19, loss = 0.14901456\n",
      "Iteration 20, loss = 0.14516383\n",
      "Iteration 21, loss = 0.13650559\n",
      "Iteration 22, loss = 0.13388478\n",
      "Iteration 23, loss = 0.14489743\n",
      "Iteration 24, loss = 0.13223027\n",
      "Iteration 25, loss = 0.12863507\n",
      "Iteration 26, loss = 0.14548051\n",
      "Iteration 27, loss = 0.12500395\n",
      "Iteration 28, loss = 0.12471742\n",
      "Iteration 29, loss = 0.12805905\n",
      "Iteration 30, loss = 0.12056053\n",
      "Iteration 31, loss = 0.11958055\n",
      "Iteration 32, loss = 0.11432730\n",
      "Iteration 33, loss = 0.10925375\n",
      "Iteration 34, loss = 0.11498923\n",
      "Iteration 35, loss = 0.11486075\n",
      "Iteration 36, loss = 0.10981611\n",
      "Training loss did not improve more than tol=0.000100 for two consecutive epochs. Stopping.\n",
      "We have  0.950476190476 of accuracy on MLPclassifier with activation function = logistic with  sgd algorythm\n",
      "done in 4150.909s\n",
      "\n",
      "Iteration 1, loss = 0.93831186\n",
      "Iteration 2, loss = 0.33989846\n",
      "Iteration 3, loss = 0.28095171\n",
      "Iteration 4, loss = 0.25125090\n",
      "Iteration 5, loss = 0.23357120\n",
      "Iteration 6, loss = 0.21503037\n",
      "Iteration 7, loss = 0.21098317\n",
      "Iteration 8, loss = 0.19875734\n",
      "Iteration 9, loss = 0.17656493\n",
      "Iteration 10, loss = 0.17417047\n",
      "Iteration 11, loss = 0.18163265\n",
      "Iteration 12, loss = 0.16748495\n",
      "Iteration 13, loss = 0.16500104\n",
      "Iteration 14, loss = 0.17438896\n",
      "Iteration 15, loss = 0.16209609\n",
      "Iteration 16, loss = 0.15526526\n",
      "Iteration 17, loss = 0.14461733\n",
      "Iteration 18, loss = 0.15112696\n",
      "Iteration 19, loss = 0.14075751\n",
      "Iteration 20, loss = 0.14859385\n",
      "Iteration 21, loss = 0.14786730\n",
      "Iteration 22, loss = 0.13804434\n",
      "Iteration 23, loss = 0.14639926\n",
      "Iteration 24, loss = 0.13127357\n",
      "Iteration 25, loss = 0.13043497\n",
      "Iteration 26, loss = 0.12039773\n",
      "Iteration 27, loss = 0.12296756\n",
      "Iteration 28, loss = 0.12387849\n",
      "Iteration 29, loss = 0.12365246\n",
      "Training loss did not improve more than tol=0.000100 for two consecutive epochs. Stopping.\n",
      "We have  0.940238095238 of accuracy on MLPclassifier with activation function = logistic with  adam algorythm\n",
      "done in 2706.545s\n",
      "\n",
      "Iteration 1, loss = 0.92503997\n",
      "Iteration 2, loss = 0.31333883\n",
      "Iteration 3, loss = 0.25635414\n",
      "Iteration 4, loss = 0.25686164\n",
      "Iteration 5, loss = 0.22814624\n",
      "Iteration 6, loss = 0.20422947\n",
      "Iteration 7, loss = 0.19990829\n",
      "Iteration 8, loss = 0.18940044\n",
      "Iteration 9, loss = 0.19696044\n",
      "Iteration 10, loss = 0.17193902\n",
      "Iteration 11, loss = 0.17325637\n",
      "Iteration 12, loss = 0.17222052\n",
      "Iteration 13, loss = 0.15904044\n",
      "Iteration 14, loss = 0.17035799\n",
      "Iteration 15, loss = 0.15003028\n",
      "Iteration 16, loss = 0.15388962\n",
      "Iteration 17, loss = 0.15095760\n",
      "Iteration 18, loss = 0.15265590\n",
      "Training loss did not improve more than tol=0.000100 for two consecutive epochs. Stopping.\n",
      "We have  0.933214285714 of accuracy on MLPclassifier with activation function = logistic with  l-bfgs algorythm\n",
      "done in 1531.047s\n",
      "\n",
      "Iteration 1, loss = 0.49817724\n",
      "Iteration 2, loss = 0.31682261\n",
      "Iteration 3, loss = 0.29129329\n",
      "Iteration 4, loss = 0.26827224\n",
      "Iteration 5, loss = 0.27892488\n",
      "Iteration 6, loss = 0.30462837\n",
      "Iteration 7, loss = 0.27265325\n",
      "Training loss did not improve more than tol=0.000100 for two consecutive epochs. Stopping.\n",
      "We have  0.894047619048 of accuracy on MLPclassifier with activation function = tanh with  sgd algorythm\n",
      "done in 558.757s\n",
      "\n",
      "Iteration 1, loss = 0.50538451\n",
      "Iteration 2, loss = 0.31496349\n",
      "Iteration 3, loss = 0.30113195\n",
      "Iteration 4, loss = 0.27302857\n",
      "Iteration 5, loss = 0.31819666\n",
      "Iteration 6, loss = 0.28583152\n",
      "Iteration 7, loss = 0.27034348\n",
      "Iteration 8, loss = 0.28082917\n",
      "Iteration 9, loss = 0.26225840\n",
      "Iteration 10, loss = 0.26584035\n",
      "Iteration 11, loss = 0.26481441\n",
      "Iteration 12, loss = 0.27774331\n",
      "Training loss did not improve more than tol=0.000100 for two consecutive epochs. Stopping.\n",
      "We have  0.921547619048 of accuracy on MLPclassifier with activation function = tanh with  adam algorythm\n",
      "done in 977.087s\n",
      "\n",
      "Iteration 1, loss = 0.46844559\n",
      "Iteration 2, loss = 0.32004541\n",
      "Iteration 3, loss = 0.28004486\n",
      "Iteration 4, loss = 0.28970536\n",
      "Iteration 5, loss = 0.28168377\n",
      "Iteration 6, loss = 0.29457717\n",
      "Training loss did not improve more than tol=0.000100 for two consecutive epochs. Stopping.\n",
      "We have  0.892857142857 of accuracy on MLPclassifier with activation function = tanh with  l-bfgs algorythm\n",
      "done in 472.654s\n",
      "\n",
      "Iteration 1, loss = 1.29779610\n",
      "Iteration 2, loss = 0.12983333\n",
      "Iteration 3, loss = 0.08959002\n",
      "Iteration 4, loss = 0.06646103\n",
      "Iteration 5, loss = 0.05341641\n",
      "Iteration 6, loss = 0.04759901\n",
      "Iteration 7, loss = 0.04291960\n",
      "Iteration 8, loss = 0.03530565\n",
      "Iteration 9, loss = 0.04483927\n",
      "Iteration 10, loss = 0.03667890\n",
      "Iteration 11, loss = 0.04158188\n",
      "Training loss did not improve more than tol=0.000100 for two consecutive epochs. Stopping.\n",
      "We have  0.97130952381 of accuracy on MLPclassifier with activation function = relu with  sgd algorythm\n",
      "done in 756.269s\n",
      "\n",
      "Iteration 1, loss = 1.57659774\n",
      "Iteration 2, loss = 0.13305658\n",
      "Iteration 3, loss = 0.09183945\n",
      "Iteration 4, loss = 0.06639568\n",
      "Iteration 5, loss = 0.05646803\n",
      "Iteration 6, loss = 0.05553462\n",
      "Iteration 7, loss = 0.05456270\n",
      "Iteration 8, loss = 0.03969152\n",
      "Iteration 9, loss = 0.04222076\n",
      "Iteration 10, loss = 0.03079309\n",
      "Iteration 11, loss = 0.03401666\n",
      "Iteration 12, loss = 0.02378585\n",
      "Iteration 13, loss = 0.04108828\n",
      "Iteration 14, loss = 0.03800991\n",
      "Iteration 15, loss = 0.02471422\n",
      "Training loss did not improve more than tol=0.000100 for two consecutive epochs. Stopping.\n",
      "We have  0.969880952381 of accuracy on MLPclassifier with activation function = relu with  adam algorythm\n",
      "done in 990.214s\n",
      "\n",
      "Iteration 1, loss = 1.45310140\n",
      "Iteration 2, loss = 0.13856403\n",
      "Iteration 3, loss = 0.08906168\n",
      "Iteration 4, loss = 0.07054421\n",
      "Iteration 5, loss = 0.06074879\n",
      "Iteration 6, loss = 0.04693585\n",
      "Iteration 7, loss = 0.04625055\n",
      "Iteration 8, loss = 0.03822425\n",
      "Iteration 9, loss = 0.03707572\n",
      "Iteration 10, loss = 0.03773546\n",
      "Iteration 11, loss = 0.04171799\n",
      "Iteration 12, loss = 0.03271914\n",
      "Iteration 13, loss = 0.03031953\n",
      "Iteration 14, loss = 0.04000638\n",
      "Iteration 15, loss = 0.04103012\n",
      "Iteration 16, loss = 0.02961046\n",
      "Iteration 17, loss = 0.02443595\n",
      "Iteration 18, loss = 0.02415082\n",
      "Iteration 19, loss = 0.02096209\n",
      "Iteration 20, loss = 0.03438911\n",
      "Iteration 21, loss = 0.02095840\n",
      "Iteration 22, loss = 0.03107915\n",
      "Training loss did not improve more than tol=0.000100 for two consecutive epochs. Stopping.\n",
      "We have  0.969166666667 of accuracy on MLPclassifier with activation function = relu with  l-bfgs algorythm\n",
      "done in 1490.224s\n",
      "\n"
     ]
    }
   ],
   "source": [
    "print(\"Started to fitting MLPClassifier on data\")\n",
    "\n",
    "accuracy_values_MLPClassifier = []\n",
    "for activate_type in ['logistic', 'tanh', 'relu']:\n",
    "    for algo in ['sgd', 'adam', 'l-bfgs']:\n",
    "        t0 = time()\n",
    "\n",
    "        clf = MLPClassifier(verbose=True, activation=activate_type, learning_rate='adaptive',\n",
    "                            hidden_layer_sizes=(2500, 2000, 1500, 1000, 500))\n",
    "\n",
    "        clf.fit(X_train, y_train)\n",
    "\n",
    "        y_predict = clf.predict(X_test)\n",
    "\n",
    "        temp_acc = accuracy_score(y_test, y_predict)\n",
    "        print('We have ', temp_acc,\n",
    "              'of accuracy on MLPclassifier with activation function =',\n",
    "              activate_type, 'with ', algo, 'algorythm')\n",
    "        accuracy_values_MLPClassifier.append(temp_acc)\n",
    "        print(\"done in %0.3fs\" % (time() - t0))\n",
    "        print()\n"
   ]
  },
  {
   "cell_type": "markdown",
   "metadata": {},
   "source": [
    "Напоследок сверточная нейронная сеть с 5 слоями"
   ]
  },
  {
   "cell_type": "code",
   "execution_count": 80,
   "metadata": {
    "collapsed": false
   },
   "outputs": [
    {
     "name": "stdout",
     "output_type": "stream",
     "text": [
      "Initialized!\n",
      "Step 0 (epoch 0.00), 7.7 ms\n",
      "Minibatch loss: 11.511, learning rate: 0.010000\n",
      "Minibatch error: 96.9%\n",
      "Validation error: 84.3%\n",
      "Step 100 (epoch 0.17), 112.2 ms\n",
      "Minibatch loss: 3.473, learning rate: 0.010000\n",
      "Minibatch error: 18.8%\n",
      "Validation error: 6.6%\n",
      "Step 200 (epoch 0.35), 115.0 ms\n",
      "Minibatch loss: 3.358, learning rate: 0.010000\n",
      "Minibatch error: 10.9%\n",
      "Validation error: 4.2%\n",
      "Step 300 (epoch 0.52), 120.5 ms\n",
      "Minibatch loss: 3.383, learning rate: 0.010000\n",
      "Minibatch error: 7.8%\n",
      "Validation error: 3.3%\n",
      "Step 400 (epoch 0.69), 119.0 ms\n",
      "Minibatch loss: 3.109, learning rate: 0.010000\n",
      "Minibatch error: 4.7%\n",
      "Validation error: 2.6%\n",
      "Step 500 (epoch 0.86), 117.9 ms\n",
      "Minibatch loss: 3.120, learning rate: 0.010000\n",
      "Minibatch error: 6.2%\n",
      "Validation error: 2.4%\n",
      "Step 600 (epoch 1.04), 114.5 ms\n",
      "Minibatch loss: 3.098, learning rate: 0.009500\n",
      "Minibatch error: 4.7%\n",
      "Validation error: 2.1%\n",
      "Step 700 (epoch 1.21), 113.6 ms\n",
      "Minibatch loss: 2.999, learning rate: 0.009500\n",
      "Minibatch error: 3.1%\n",
      "Validation error: 2.5%\n",
      "Step 800 (epoch 1.38), 111.6 ms\n",
      "Minibatch loss: 2.948, learning rate: 0.009500\n",
      "Minibatch error: 3.1%\n",
      "Validation error: 2.1%\n",
      "Step 900 (epoch 1.56), 115.9 ms\n",
      "Minibatch loss: 2.925, learning rate: 0.009500\n",
      "Minibatch error: 3.1%\n",
      "Validation error: 1.6%\n",
      "Step 1000 (epoch 1.73), 117.1 ms\n",
      "Minibatch loss: 2.901, learning rate: 0.009500\n",
      "Minibatch error: 3.1%\n",
      "Validation error: 1.8%\n",
      "Step 1100 (epoch 1.90), 121.1 ms\n",
      "Minibatch loss: 2.846, learning rate: 0.009500\n",
      "Minibatch error: 0.0%\n",
      "Validation error: 1.8%\n",
      "Step 1200 (epoch 2.08), 113.3 ms\n",
      "Minibatch loss: 2.821, learning rate: 0.009025\n",
      "Minibatch error: 1.6%\n",
      "Validation error: 1.9%\n",
      "Step 1300 (epoch 2.25), 116.5 ms\n",
      "Minibatch loss: 2.842, learning rate: 0.009025\n",
      "Minibatch error: 4.7%\n",
      "Validation error: 1.7%\n",
      "Step 1400 (epoch 2.42), 117.7 ms\n",
      "Minibatch loss: 2.742, learning rate: 0.009025\n",
      "Minibatch error: 0.0%\n",
      "Validation error: 1.5%\n",
      "Step 1500 (epoch 2.59), 111.5 ms\n",
      "Minibatch loss: 2.752, learning rate: 0.009025\n",
      "Minibatch error: 1.6%\n",
      "Validation error: 1.6%\n",
      "Step 1600 (epoch 2.77), 110.0 ms\n",
      "Minibatch loss: 2.706, learning rate: 0.009025\n",
      "Minibatch error: 0.0%\n",
      "Validation error: 1.5%\n",
      "Step 1700 (epoch 2.94), 120.2 ms\n",
      "Minibatch loss: 2.766, learning rate: 0.009025\n",
      "Minibatch error: 1.6%\n",
      "Validation error: 1.5%\n",
      "Step 1800 (epoch 3.11), 112.3 ms\n",
      "Minibatch loss: 2.683, learning rate: 0.008574\n",
      "Minibatch error: 1.6%\n",
      "Validation error: 1.6%\n",
      "Step 1900 (epoch 3.29), 111.0 ms\n",
      "Minibatch loss: 2.670, learning rate: 0.008574\n",
      "Minibatch error: 1.6%\n",
      "Validation error: 1.5%\n",
      "Step 2000 (epoch 3.46), 114.4 ms\n",
      "Minibatch loss: 2.636, learning rate: 0.008574\n",
      "Minibatch error: 1.6%\n",
      "Validation error: 1.2%\n",
      "Step 2100 (epoch 3.63), 110.3 ms\n",
      "Minibatch loss: 2.577, learning rate: 0.008574\n",
      "Minibatch error: 0.0%\n",
      "Validation error: 1.3%\n",
      "Step 2200 (epoch 3.81), 110.3 ms\n",
      "Minibatch loss: 2.576, learning rate: 0.008574\n",
      "Minibatch error: 1.6%\n",
      "Validation error: 1.3%\n",
      "Step 2300 (epoch 3.98), 112.5 ms\n",
      "Minibatch loss: 2.627, learning rate: 0.008574\n",
      "Minibatch error: 3.1%\n",
      "Validation error: 1.3%\n",
      "Step 2400 (epoch 4.15), 110.9 ms\n",
      "Minibatch loss: 2.517, learning rate: 0.008145\n",
      "Minibatch error: 0.0%\n",
      "Validation error: 1.2%\n",
      "Step 2500 (epoch 4.32), 109.9 ms\n",
      "Minibatch loss: 2.509, learning rate: 0.008145\n",
      "Minibatch error: 0.0%\n",
      "Validation error: 1.3%\n",
      "Step 2600 (epoch 4.50), 110.6 ms\n",
      "Minibatch loss: 2.504, learning rate: 0.008145\n",
      "Minibatch error: 3.1%\n",
      "Validation error: 1.2%\n",
      "Step 2700 (epoch 4.67), 110.2 ms\n",
      "Minibatch loss: 2.547, learning rate: 0.008145\n",
      "Minibatch error: 1.6%\n",
      "Validation error: 1.2%\n",
      "Step 2800 (epoch 4.84), 110.4 ms\n",
      "Minibatch loss: 2.441, learning rate: 0.008145\n",
      "Minibatch error: 0.0%\n",
      "Validation error: 1.2%\n",
      "Step 2900 (epoch 5.02), 110.3 ms\n",
      "Minibatch loss: 2.414, learning rate: 0.007738\n",
      "Minibatch error: 0.0%\n",
      "Validation error: 1.2%\n",
      "Step 3000 (epoch 5.19), 110.4 ms\n",
      "Minibatch loss: 2.427, learning rate: 0.007738\n",
      "Minibatch error: 3.1%\n",
      "Validation error: 1.1%\n",
      "Step 3100 (epoch 5.36), 110.7 ms\n",
      "Minibatch loss: 2.393, learning rate: 0.007738\n",
      "Minibatch error: 0.0%\n",
      "Validation error: 1.2%\n",
      "Step 3200 (epoch 5.54), 110.1 ms\n",
      "Minibatch loss: 2.407, learning rate: 0.007738\n",
      "Minibatch error: 1.6%\n",
      "Validation error: 1.2%\n",
      "Step 3300 (epoch 5.71), 116.8 ms\n",
      "Minibatch loss: 2.435, learning rate: 0.007738\n",
      "Minibatch error: 1.6%\n",
      "Validation error: 1.1%\n",
      "Step 3400 (epoch 5.88), 122.9 ms\n",
      "Minibatch loss: 2.321, learning rate: 0.007738\n",
      "Minibatch error: 0.0%\n",
      "Validation error: 1.2%\n",
      "Step 3500 (epoch 6.05), 117.7 ms\n",
      "Minibatch loss: 2.356, learning rate: 0.007351\n",
      "Minibatch error: 3.1%\n",
      "Validation error: 0.9%\n",
      "Step 3600 (epoch 6.23), 124.7 ms\n",
      "Minibatch loss: 2.289, learning rate: 0.007351\n",
      "Minibatch error: 0.0%\n",
      "Validation error: 1.1%\n",
      "Step 3700 (epoch 6.40), 111.2 ms\n",
      "Minibatch loss: 2.331, learning rate: 0.007351\n",
      "Minibatch error: 3.1%\n",
      "Validation error: 1.0%\n",
      "Step 3800 (epoch 6.57), 123.1 ms\n",
      "Minibatch loss: 2.256, learning rate: 0.007351\n",
      "Minibatch error: 0.0%\n",
      "Validation error: 1.1%\n",
      "Step 3900 (epoch 6.75), 111.1 ms\n",
      "Minibatch loss: 2.236, learning rate: 0.007351\n",
      "Minibatch error: 0.0%\n",
      "Validation error: 1.1%\n",
      "Step 4000 (epoch 6.92), 113.5 ms\n",
      "Minibatch loss: 2.219, learning rate: 0.007351\n",
      "Minibatch error: 0.0%\n",
      "Validation error: 1.1%\n",
      "Step 4100 (epoch 7.09), 110.8 ms\n",
      "Minibatch loss: 2.253, learning rate: 0.006983\n",
      "Minibatch error: 1.6%\n",
      "Validation error: 1.1%\n",
      "Step 4200 (epoch 7.26), 110.5 ms\n",
      "Minibatch loss: 2.219, learning rate: 0.006983\n",
      "Minibatch error: 0.0%\n",
      "Validation error: 1.0%\n",
      "Step 4300 (epoch 7.44), 110.2 ms\n",
      "Minibatch loss: 2.245, learning rate: 0.006983\n",
      "Minibatch error: 3.1%\n",
      "Validation error: 1.0%\n",
      "Step 4400 (epoch 7.61), 117.3 ms\n",
      "Minibatch loss: 2.175, learning rate: 0.006983\n",
      "Minibatch error: 0.0%\n",
      "Validation error: 0.9%\n",
      "Step 4500 (epoch 7.78), 131.0 ms\n",
      "Minibatch loss: 2.171, learning rate: 0.006983\n",
      "Minibatch error: 1.6%\n",
      "Validation error: 1.0%\n",
      "Step 4600 (epoch 7.96), 114.2 ms\n",
      "Minibatch loss: 2.186, learning rate: 0.006983\n",
      "Minibatch error: 1.6%\n",
      "Validation error: 1.0%\n",
      "Step 4700 (epoch 8.13), 120.0 ms\n",
      "Minibatch loss: 2.145, learning rate: 0.006634\n",
      "Minibatch error: 1.6%\n",
      "Validation error: 1.0%\n",
      "Step 4800 (epoch 8.30), 112.3 ms\n",
      "Minibatch loss: 2.100, learning rate: 0.006634\n",
      "Minibatch error: 0.0%\n",
      "Validation error: 1.0%\n",
      "Step 4900 (epoch 8.48), 110.5 ms\n",
      "Minibatch loss: 2.119, learning rate: 0.006634\n",
      "Minibatch error: 1.6%\n",
      "Validation error: 1.0%\n",
      "Step 5000 (epoch 8.65), 114.2 ms\n",
      "Minibatch loss: 2.096, learning rate: 0.006634\n",
      "Minibatch error: 1.6%\n",
      "Validation error: 0.9%\n",
      "Step 5100 (epoch 8.82), 114.4 ms\n",
      "Minibatch loss: 2.061, learning rate: 0.006634\n",
      "Minibatch error: 0.0%\n",
      "Validation error: 1.0%\n",
      "Step 5200 (epoch 8.99), 135.1 ms\n",
      "Minibatch loss: 2.064, learning rate: 0.006634\n",
      "Minibatch error: 0.0%\n",
      "Validation error: 1.0%\n",
      "Step 5300 (epoch 9.17), 146.3 ms\n",
      "Minibatch loss: 2.044, learning rate: 0.006302\n",
      "Minibatch error: 0.0%\n",
      "Validation error: 1.0%\n",
      "Step 5400 (epoch 9.34), 124.3 ms\n",
      "Minibatch loss: 2.042, learning rate: 0.006302\n",
      "Minibatch error: 1.6%\n",
      "Validation error: 0.9%\n",
      "Step 5500 (epoch 9.51), 115.9 ms\n",
      "Minibatch loss: 2.049, learning rate: 0.006302\n",
      "Minibatch error: 3.1%\n",
      "Validation error: 1.0%\n",
      "Step 5600 (epoch 9.69), 116.6 ms\n",
      "Minibatch loss: 1.994, learning rate: 0.006302\n",
      "Minibatch error: 0.0%\n",
      "Validation error: 0.8%\n",
      "Step 5700 (epoch 9.86), 115.9 ms\n",
      "Minibatch loss: 1.984, learning rate: 0.006302\n",
      "Minibatch error: 0.0%\n",
      "Validation error: 0.9%\n",
      "Final!\n"
     ]
    },
    {
     "ename": "SystemExit",
     "evalue": "",
     "output_type": "error",
     "traceback": [
      "An exception has occurred, use %tb to see the full traceback.\n",
      "\u001b[1;31mSystemExit\u001b[0m\n"
     ]
    },
    {
     "name": "stderr",
     "output_type": "stream",
     "text": [
      "To exit: use 'exit', 'quit', or Ctrl-D.\n"
     ]
    }
   ],
   "source": [
    "IMAGE_SIZE = 28\n",
    "NUM_CHANNELS = 1\n",
    "NUM_LABELS = 10\n",
    "VALIDATION_SIZE = 5000 \n",
    "SEED = 66478  \n",
    "BATCH_SIZE = 64\n",
    "NUM_EPOCHS = 10\n",
    "EVAL_BATCH_SIZE = 64\n",
    "EVAL_FREQUENCY = 100\n",
    "\n",
    "def error_rate(predictions, labels):\n",
    "  return 100.0 - (\n",
    "      100.0 *\n",
    "      numpy.sum(numpy.argmax(predictions, 1) == labels) /\n",
    "      predictions.shape[0])\n",
    "\n",
    "def main(argv=None): \n",
    "  train = pandas.read_csv('train.csv')\n",
    "  train_data = []\n",
    "  for i in range(42000):\n",
    "    temp = list(convert(train[i:i + 1])[0])\n",
    "    temp = np.array(temp)\n",
    "\n",
    "    temp.shape = ((28), (28), (1))\n",
    "    temp = (temp - (255 / 2.0)) / 255\n",
    "    #train_data.append(list(convert(train_set[i:i + 1])[0]))\n",
    "    train_data.append(temp)\n",
    "  train_labels = train.label\n",
    "\n",
    "  test = pandas.read_csv('test.csv')\n",
    "  test_data = []\n",
    "  for i in range(28000):\n",
    "    temp = list(test[i:i + 1].iloc[:,0:].values[0])\n",
    "    temp = np.array(temp)\n",
    "\n",
    "    temp.shape = ((28), (28), (1))\n",
    "    temp = (temp - (255 / 2.0)) / 255\n",
    "    test_data.append(temp)\n",
    "    \n",
    "  train_data = np.array(train_data)\n",
    "  test_data = np.array(test_data)\n",
    "  validation_data = train_data[:VALIDATION_SIZE, ...]\n",
    "  validation_labels = train_labels[:VALIDATION_SIZE]\n",
    "  train_data = train_data[VALIDATION_SIZE:, ...]\n",
    "  train_labels = train_labels[VALIDATION_SIZE:]\n",
    "  num_epochs = NUM_EPOCHS\n",
    "  train_size = train_labels.shape[0]\n",
    "\n",
    "  train_data_node = tf.placeholder(\n",
    "      tf.float32,\n",
    "      shape=(BATCH_SIZE, IMAGE_SIZE, IMAGE_SIZE, NUM_CHANNELS))\n",
    "  train_labels_node = tf.placeholder(tf.int64, shape=(BATCH_SIZE,))\n",
    "  eval_data = tf.placeholder(\n",
    "      tf.float32,\n",
    "      shape=(EVAL_BATCH_SIZE, IMAGE_SIZE, IMAGE_SIZE, NUM_CHANNELS))\n",
    "\n",
    "  conv1_weights = tf.Variable(\n",
    "      tf.truncated_normal([5, 5, NUM_CHANNELS, 32],  \n",
    "                          stddev=0.1,\n",
    "                          seed=SEED))\n",
    "  conv1_biases = tf.Variable(tf.zeros([32]))\n",
    "  conv2_weights = tf.Variable(\n",
    "      tf.truncated_normal([5, 5, 32, 64],\n",
    "                          stddev=0.1,\n",
    "                          seed=SEED))\n",
    "  conv2_biases = tf.Variable(tf.constant(0.1, shape=[64]))\n",
    "  fc1_weights = tf.Variable(  \n",
    "      tf.truncated_normal(\n",
    "          [IMAGE_SIZE // 4 * IMAGE_SIZE // 4 * 64, 512],\n",
    "          stddev=0.1,\n",
    "          seed=SEED))\n",
    "  fc1_biases = tf.Variable(tf.constant(0.1, shape=[512]))\n",
    "  fc2_weights = tf.Variable(\n",
    "      tf.truncated_normal([512, NUM_LABELS],\n",
    "                          stddev=0.1,\n",
    "                          seed=SEED))\n",
    "  fc2_biases = tf.Variable(tf.constant(0.1, shape=[NUM_LABELS]))\n",
    "\n",
    "  def model(data, train=False):\n",
    "    conv = tf.nn.conv2d(data,\n",
    "                        conv1_weights,\n",
    "                        strides=[1, 1, 1, 1],\n",
    "                        padding='SAME')\n",
    "    relu = tf.nn.relu(tf.nn.bias_add(conv, conv1_biases))\n",
    "\n",
    "    pool = tf.nn.max_pool(relu,\n",
    "                          ksize=[1, 2, 2, 1],\n",
    "                          strides=[1, 2, 2, 1],\n",
    "                          padding='SAME')\n",
    "    conv = tf.nn.conv2d(pool,\n",
    "                        conv2_weights,\n",
    "                        strides=[1, 1, 1, 1],\n",
    "                        padding='SAME')\n",
    "    relu = tf.nn.relu(tf.nn.bias_add(conv, conv2_biases))\n",
    "    pool = tf.nn.max_pool(relu,\n",
    "                          ksize=[1, 2, 2, 1],\n",
    "                          strides=[1, 2, 2, 1],\n",
    "                          padding='SAME')\n",
    "    pool_shape = pool.get_shape().as_list()\n",
    "    reshape = tf.reshape(\n",
    "        pool,\n",
    "        [pool_shape[0], pool_shape[1] * pool_shape[2] * pool_shape[3]])\n",
    "    hidden = tf.nn.relu(tf.matmul(reshape, fc1_weights) + fc1_biases)\n",
    "\n",
    "    if train:\n",
    "      hidden = tf.nn.dropout(hidden, 0.5, seed=SEED)\n",
    "    return tf.matmul(hidden, fc2_weights) + fc2_biases\n",
    "\n",
    "  logits = model(train_data_node, True)\n",
    "  loss = tf.reduce_mean(tf.nn.sparse_softmax_cross_entropy_with_logits(\n",
    "      logits, train_labels_node))\n",
    "\n",
    "  regularizers = (tf.nn.l2_loss(fc1_weights) + tf.nn.l2_loss(fc1_biases) +\n",
    "                  tf.nn.l2_loss(fc2_weights) + tf.nn.l2_loss(fc2_biases))\n",
    "  loss += 5e-4 * regularizers\n",
    "\n",
    "  batch = tf.Variable(0)\n",
    "  learning_rate = tf.train.exponential_decay(\n",
    "      0.01,                \n",
    "      batch * BATCH_SIZE,  \n",
    "      train_size,          \n",
    "      0.95,                \n",
    "      staircase=True)\n",
    "\n",
    "  optimizer = tf.train.MomentumOptimizer(learning_rate,\n",
    "                                         0.9).minimize(loss,\n",
    "                                                       global_step=batch)\n",
    "\n",
    "  train_prediction = tf.nn.softmax(logits)\n",
    "\n",
    "  eval_prediction = tf.nn.softmax(model(eval_data))\n",
    "\n",
    "  def eval_in_batches(data, sess):\n",
    "    size = data.shape[0]\n",
    "    if size < EVAL_BATCH_SIZE:\n",
    "      raise ValueError(\"batch size for evals larger than dataset: %d\" % size)\n",
    "    predictions = numpy.ndarray(shape=(size, NUM_LABELS), dtype=numpy.float32)\n",
    "    for begin in xrange(0, size, EVAL_BATCH_SIZE):\n",
    "      end = begin + EVAL_BATCH_SIZE\n",
    "      if end <= size:\n",
    "        predictions[begin:end, :] = sess.run(\n",
    "            eval_prediction,\n",
    "            feed_dict={eval_data: data[begin:end, ...]})\n",
    "      else:\n",
    "        batch_predictions = sess.run(\n",
    "            eval_prediction,\n",
    "            feed_dict={eval_data: data[-EVAL_BATCH_SIZE:, ...]})\n",
    "        predictions[begin:, :] = batch_predictions[begin - size:, :]\n",
    "    return predictions\n",
    "\n",
    "  start_time = time.time()\n",
    "  with tf.Session() as sess:\n",
    "    tf.initialize_all_variables().run()\n",
    "    print('Initialized!')\n",
    "    for step in xrange(int(num_epochs * train_size) // BATCH_SIZE):\n",
    "      offset = (step * BATCH_SIZE) % (train_size - BATCH_SIZE)\n",
    "      batch_data = train_data[offset:(offset + BATCH_SIZE), ...]\n",
    "      batch_labels = train_labels[offset:(offset + BATCH_SIZE)]\n",
    "      feed_dict = {train_data_node: batch_data,\n",
    "                   train_labels_node: batch_labels}\n",
    "\n",
    "      _, l, lr, predictions = sess.run(\n",
    "          [optimizer, loss, learning_rate, train_prediction],\n",
    "          feed_dict=feed_dict)\n",
    "      if step % EVAL_FREQUENCY == 0:\n",
    "        elapsed_time = time.time() - start_time\n",
    "        start_time = time.time()\n",
    "        print('Step %d (epoch %.2f), %.1f ms' %\n",
    "              (step, float(step) * BATCH_SIZE / train_size,\n",
    "               1000 * elapsed_time / EVAL_FREQUENCY))\n",
    "        print('Minibatch loss: %.3f, learning rate: %.6f' % (l, lr))\n",
    "        print('Minibatch error: %.1f%%' % error_rate(predictions, batch_labels))\n",
    "        print('Validation error: %.1f%%' % error_rate(\n",
    "            eval_in_batches(validation_data, sess), validation_labels))\n",
    "        sys.stdout.flush()\n",
    "        \n",
    "    print('Final!')\n",
    "    out = eval_in_batches(test_data, sess)\n",
    "    pandas.DataFrame(out).to_csv('Kaggle.csv')\n",
    "\n",
    "if __name__ == '__main__':\n",
    "  tf.app.run()"
   ]
  },
  {
   "cell_type": "code",
   "execution_count": null,
   "metadata": {
    "collapsed": false
   },
   "outputs": [],
   "source": [
    "test = pandas.read_csv('Kaggle.csv')\n",
    "pred = []\n",
    "for i in range(28000):\n",
    "    temp = list(test[i:i + 1].iloc[:,1:].values[0])\n",
    "    mn = max(temp)\n",
    "    for i in range(len(temp)):\n",
    "        if mn == temp[i]:\n",
    "            pred.append(i)\n",
    "            break\n",
    "sample = pandas.read_csv('sample_submission.csv')\n",
    "kaggle_sub(sample,pred)"
   ]
  },
  {
   "cell_type": "markdown",
   "metadata": {},
   "source": [
    "Сабмит на Kaggle, имеем 144 место в общем зачете и score=0.99171."
   ]
  }
 ],
 "metadata": {
  "kernelspec": {
   "display_name": "Python 3",
   "language": "python",
   "name": "python3"
  },
  "language_info": {
   "codemirror_mode": {
    "name": "ipython",
    "version": 3
   },
   "file_extension": ".py",
   "mimetype": "text/x-python",
   "name": "python",
   "nbconvert_exporter": "python",
   "pygments_lexer": "ipython3",
   "version": "3.5.1"
  }
 },
 "nbformat": 4,
 "nbformat_minor": 0
}
